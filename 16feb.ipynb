{
 "cells": [
  {
   "cell_type": "markdown",
   "id": "842e2042",
   "metadata": {},
   "source": [
    "## Q1"
   ]
  },
  {
   "cell_type": "code",
   "execution_count": 1,
   "id": "7a2f4a87",
   "metadata": {},
   "outputs": [],
   "source": [
    "# A database is a structured collection of data for efficient storage and retrieval.\n",
    "\n",
    "# SQL databases are relational, using a fixed schema for structured data.\n",
    "\n",
    "# NoSQL databases are diverse, accommodating unstructured or semi-structured data.\n",
    "\n",
    "# SQL ensures ACID properties for data consistency, while NoSQL prioritizes scalability.\n",
    "\n",
    "# Examples: SQL - MySQL, NoSQL - MongoDB, Cassandra."
   ]
  },
  {
   "cell_type": "markdown",
   "id": "b94abf61",
   "metadata": {},
   "source": [
    "## Q2"
   ]
  },
  {
   "cell_type": "code",
   "execution_count": 2,
   "id": "06f78643",
   "metadata": {},
   "outputs": [],
   "source": [
    "# DDL (Data Definition Language) defines and manages a database's structure.\n",
    "\n",
    "# CREATE creates new objects like tables (e.g., CREATE TABLE).\n",
    "\n",
    "# DROP deletes objects entirely (e.g., DROP TABLE).\n",
    "\n",
    "# ALTER modifies object structures (e.g., ALTER TABLE to add a column).\n",
    "\n",
    "# TRUNCATE removes all records from a table, keeping the structure (e.g., TRUNCATE TABLE)."
   ]
  },
  {
   "cell_type": "code",
   "execution_count": 4,
   "id": "15895000",
   "metadata": {},
   "outputs": [],
   "source": [
    "# CREATE TABLE employees (\n",
    "#     employee_id INT PRIMARY KEY,\n",
    "#     first_name VARCHAR(50),\n",
    "#     last_name VARCHAR(50),\n",
    "#     hire_date DATE\n",
    "# );\n"
   ]
  },
  {
   "cell_type": "code",
   "execution_count": 5,
   "id": "6688d1aa",
   "metadata": {},
   "outputs": [],
   "source": [
    "# DROP TABLE employees;\n"
   ]
  },
  {
   "cell_type": "code",
   "execution_count": 6,
   "id": "e8058306",
   "metadata": {},
   "outputs": [],
   "source": [
    "#ALTER TABLE employees\n",
    "#ADD COLUMN email VARCHAR(100);\n"
   ]
  },
  {
   "cell_type": "code",
   "execution_count": 7,
   "id": "531ffd6e",
   "metadata": {},
   "outputs": [],
   "source": [
    "# TRUNCATE TABLE employees;\n"
   ]
  },
  {
   "cell_type": "markdown",
   "id": "d81b2514",
   "metadata": {},
   "source": [
    "## Q3"
   ]
  },
  {
   "cell_type": "code",
   "execution_count": 8,
   "id": "9d252609",
   "metadata": {},
   "outputs": [],
   "source": [
    "# Q3. DML (Data Manipulation Language):\n",
    "\n",
    "# DML deals with the manipulation of data stored in the database.\n",
    "\n",
    "# INSERT:\n",
    "\n",
    "# Purpose: Adds new records to a table.\n",
    "# Example:\n",
    "# sql\n",
    "# Copy code\n",
    "# INSERT INTO employees (employee_id, first_name, last_name, hire_date)\n",
    "# VALUES (1, 'John', 'Doe', '2023-01-01');\n",
    "# UPDATE:\n",
    "\n",
    "# Purpose: Modifies existing records in a table.\n",
    "# Example:\n",
    "# sql\n",
    "# Copy code\n",
    "# UPDATE employees\n",
    "# SET first_name = 'Jane'\n",
    "# WHERE employee_id = 1;\n",
    "# DELETE:\n",
    "\n",
    "# Purpose: Removes records from a table.\n",
    "# Example:\n",
    "# sql\n",
    "# Copy code\n",
    "# DELETE FROM employees\n",
    "# WHERE employee_id = 1;\n"
   ]
  },
  {
   "cell_type": "markdown",
   "id": "e5d7ca45",
   "metadata": {},
   "source": [
    "## Q4"
   ]
  },
  {
   "cell_type": "code",
   "execution_count": 9,
   "id": "8eae584d",
   "metadata": {},
   "outputs": [],
   "source": [
    "# Q4. DQL (Data Query Language):\n",
    "\n",
    "# DQL is used to retrieve data from the database.\n",
    "\n",
    "# SELECT:\n",
    "# Purpose: Retrieves data from one or more tables.\n",
    "# Example:\n",
    "# sql\n",
    "# Copy code\n",
    "# SELECT first_name, last_name\n",
    "# FROM employees\n",
    "# WHERE hire_date > '2022-01-01';\n"
   ]
  },
  {
   "cell_type": "markdown",
   "id": "c4f19782",
   "metadata": {},
   "source": [
    "## Q5"
   ]
  },
  {
   "cell_type": "code",
   "execution_count": 10,
   "id": "4e1f68c3",
   "metadata": {},
   "outputs": [],
   "source": [
    "# Q5. Primary Key and Foreign Key:\n",
    "\n",
    "# Primary Key:\n",
    "\n",
    "# Purpose: Uniquely identifies each record in a table.\n",
    "# Example:\n",
    "# sql\n",
    "# Copy code\n",
    "# CREATE TABLE students (\n",
    "#     student_id INT PRIMARY KEY,\n",
    "#     student_name VARCHAR(50)\n",
    "# );\n",
    "# Foreign Key:\n",
    "\n",
    "# Purpose: Establishes a link between two tables, referencing the primary key of another table.\n",
    "# Example:\n",
    "# sql\n",
    "# Copy code\n",
    "# CREATE TABLE grades (\n",
    "#     grade_id INT PRIMARY KEY,\n",
    "#     student_id INT,\n",
    "#     grade VARCHAR(2),\n",
    "#     FOREIGN KEY (student_id) REFERENCES students(student_id)\n",
    "# );\n"
   ]
  },
  {
   "cell_type": "markdown",
   "id": "51d56d8f",
   "metadata": {},
   "source": [
    "## 6"
   ]
  },
  {
   "cell_type": "code",
   "execution_count": 11,
   "id": "c64fba68",
   "metadata": {},
   "outputs": [],
   "source": [
    "# Q6. Python code to connect MySQL and explain cursor() and execute():\n",
    "\n",
    "# python\n",
    "# Copy code\n",
    "# import mysql.connector\n",
    "\n",
    "# # Connect to MySQL\n",
    "# conn = mysql.connector.connect(\n",
    "#     host=\"your_host\",\n",
    "#     user=\"your_username\",\n",
    "#     password=\"your_password\",\n",
    "#     database=\"your_database\"\n",
    "# )\n",
    "\n",
    "# # Create a cursor\n",
    "# cursor = conn.cursor()\n",
    "\n",
    "# # Execute a SQL query\n",
    "# cursor.execute(\"SELECT * FROM your_table\")\n",
    "\n",
    "# # Fetch the result\n",
    "# result = cursor.fetchall()\n",
    "\n",
    "# # Close the cursor and connection\n",
    "# cursor.close()\n",
    "# conn.close()\n",
    "# cursor(): Creates a cursor object that allows you to interact with the database.\n",
    "# execute(): Executes a SQL query. In the example, it fetches all records from the specified table.\n"
   ]
  },
  {
   "cell_type": "markdown",
   "id": "7711aaa1",
   "metadata": {},
   "source": [
    "## Q7"
   ]
  },
  {
   "cell_type": "code",
   "execution_count": null,
   "id": "1272f77d",
   "metadata": {},
   "outputs": [],
   "source": [
    "# Q7. Order of execution of SQL clauses in a query:\n",
    "\n",
    "# FROM: Specifies the table(s) from which to retrieve data.\n",
    "# WHERE: Filters the rows based on a specified condition.\n",
    "# GROUP BY: Groups rows that have the same values into summary rows.\n",
    "# HAVING: Filters groups based on a specified condition.\n",
    "# SELECT: Retrieves the columns specified in the query.\n",
    "# ORDER BY: Sorts the result set by specified columns.\n",
    "# LIMIT/OFFSET: Specifies the number of rows to return and the number of rows to skip. (Optional)"
   ]
  }
 ],
 "metadata": {
  "kernelspec": {
   "display_name": "Python 3 (ipykernel)",
   "language": "python",
   "name": "python3"
  },
  "language_info": {
   "codemirror_mode": {
    "name": "ipython",
    "version": 3
   },
   "file_extension": ".py",
   "mimetype": "text/x-python",
   "name": "python",
   "nbconvert_exporter": "python",
   "pygments_lexer": "ipython3",
   "version": "3.11.2"
  }
 },
 "nbformat": 4,
 "nbformat_minor": 5
}
